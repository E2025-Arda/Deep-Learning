{
  "nbformat": 4,
  "nbformat_minor": 0,
  "metadata": {
    "colab": {
      "name": "keras_syntax_basics",
      "provenance": [],
      "collapsed_sections": [],
      "include_colab_link": true
    },
    "kernelspec": {
      "name": "python3",
      "display_name": "Python 3"
    }
  },
  "cells": [
    {
      "cell_type": "markdown",
      "metadata": {
        "id": "view-in-github",
        "colab_type": "text"
      },
      "source": [
        "<a href=\"https://colab.research.google.com/github/idenw/Deep-Learning/blob/master/keras_syntax_basics.ipynb\" target=\"_parent\"><img src=\"https://colab.research.google.com/assets/colab-badge.svg\" alt=\"Open In Colab\"/></a>"
      ]
    },
    {
      "cell_type": "code",
      "metadata": {
        "id": "a20LHdPzCPC-"
      },
      "source": [
        "import pandas as pd"
      ],
      "execution_count": null,
      "outputs": []
    },
    {
      "cell_type": "code",
      "metadata": {
        "id": "AWjYdnWMDEcE"
      },
      "source": [
        "#pd.set_option('display.float_format', lambda x: '%.3f' % x)"
      ],
      "execution_count": null,
      "outputs": []
    },
    {
      "cell_type": "code",
      "metadata": {
        "colab": {
          "base_uri": "https://localhost:8080/"
        },
        "id": "lqoJdMc1CsqW",
        "outputId": "c3ffe60c-70a4-4a31-d845-fc0196e1fff4"
      },
      "source": [
        "from google.colab import drive\r\n",
        "drive.mount('/content/drive')"
      ],
      "execution_count": null,
      "outputs": [
        {
          "output_type": "stream",
          "text": [
            "Drive already mounted at /content/drive; to attempt to forcibly remount, call drive.mount(\"/content/drive\", force_remount=True).\n"
          ],
          "name": "stdout"
        }
      ]
    },
    {
      "cell_type": "code",
      "metadata": {
        "id": "9JcRT-LjD-hC"
      },
      "source": [
        "df=pd.read_csv('drive/MyDrive/Colab Notebooks/DATA/fake_reg.csv')"
      ],
      "execution_count": null,
      "outputs": []
    },
    {
      "cell_type": "code",
      "metadata": {
        "colab": {
          "base_uri": "https://localhost:8080/",
          "height": 203
        },
        "id": "-CccA4zwEElF",
        "outputId": "f5a42c71-19fb-4db1-cbf0-890ee08dc629"
      },
      "source": [
        "df.head()"
      ],
      "execution_count": null,
      "outputs": [
        {
          "output_type": "execute_result",
          "data": {
            "text/html": [
              "<div>\n",
              "<style scoped>\n",
              "    .dataframe tbody tr th:only-of-type {\n",
              "        vertical-align: middle;\n",
              "    }\n",
              "\n",
              "    .dataframe tbody tr th {\n",
              "        vertical-align: top;\n",
              "    }\n",
              "\n",
              "    .dataframe thead th {\n",
              "        text-align: right;\n",
              "    }\n",
              "</style>\n",
              "<table border=\"1\" class=\"dataframe\">\n",
              "  <thead>\n",
              "    <tr style=\"text-align: right;\">\n",
              "      <th></th>\n",
              "      <th>price</th>\n",
              "      <th>feature1</th>\n",
              "      <th>feature2</th>\n",
              "    </tr>\n",
              "  </thead>\n",
              "  <tbody>\n",
              "    <tr>\n",
              "      <th>0</th>\n",
              "      <td>461.527929</td>\n",
              "      <td>999.787558</td>\n",
              "      <td>999.766096</td>\n",
              "    </tr>\n",
              "    <tr>\n",
              "      <th>1</th>\n",
              "      <td>548.130011</td>\n",
              "      <td>998.861615</td>\n",
              "      <td>1001.042403</td>\n",
              "    </tr>\n",
              "    <tr>\n",
              "      <th>2</th>\n",
              "      <td>410.297162</td>\n",
              "      <td>1000.070267</td>\n",
              "      <td>998.844015</td>\n",
              "    </tr>\n",
              "    <tr>\n",
              "      <th>3</th>\n",
              "      <td>540.382220</td>\n",
              "      <td>999.952251</td>\n",
              "      <td>1000.440940</td>\n",
              "    </tr>\n",
              "    <tr>\n",
              "      <th>4</th>\n",
              "      <td>546.024553</td>\n",
              "      <td>1000.446011</td>\n",
              "      <td>1000.338531</td>\n",
              "    </tr>\n",
              "  </tbody>\n",
              "</table>\n",
              "</div>"
            ],
            "text/plain": [
              "        price     feature1     feature2\n",
              "0  461.527929   999.787558   999.766096\n",
              "1  548.130011   998.861615  1001.042403\n",
              "2  410.297162  1000.070267   998.844015\n",
              "3  540.382220   999.952251  1000.440940\n",
              "4  546.024553  1000.446011  1000.338531"
            ]
          },
          "metadata": {
            "tags": []
          },
          "execution_count": 5
        }
      ]
    },
    {
      "cell_type": "code",
      "metadata": {
        "colab": {
          "base_uri": "https://localhost:8080/"
        },
        "id": "eXIKKSSCENVh",
        "outputId": "eba542d6-bd39-4828-ca45-ae42a60a9087"
      },
      "source": [
        "df.shape"
      ],
      "execution_count": null,
      "outputs": [
        {
          "output_type": "execute_result",
          "data": {
            "text/plain": [
              "(1000, 3)"
            ]
          },
          "metadata": {
            "tags": []
          },
          "execution_count": 6
        }
      ]
    },
    {
      "cell_type": "code",
      "metadata": {
        "id": "K24ur0uCFwBE"
      },
      "source": [
        "from sklearn.model_selection import train_test_split"
      ],
      "execution_count": null,
      "outputs": []
    },
    {
      "cell_type": "code",
      "metadata": {
        "id": "V0eI-V-WGA8G"
      },
      "source": [
        "X = df[[\"feature1\", \"feature2\"]].values"
      ],
      "execution_count": null,
      "outputs": []
    },
    {
      "cell_type": "code",
      "metadata": {
        "id": "FANjvg5xGc4n"
      },
      "source": [
        "y=df[\"price\"].values"
      ],
      "execution_count": null,
      "outputs": []
    },
    {
      "cell_type": "code",
      "metadata": {
        "id": "3qapExXsGoPi"
      },
      "source": [
        "X_train, X_test, y_train, y_test = train_test_split(X,y,test_size=0.3,random_state=42)"
      ],
      "execution_count": null,
      "outputs": []
    },
    {
      "cell_type": "code",
      "metadata": {
        "colab": {
          "base_uri": "https://localhost:8080/"
        },
        "id": "3LJTYRL-GuxG",
        "outputId": "fcf839b2-8da6-4dc9-8f9c-23dbf1d68244"
      },
      "source": [
        "X_train.shape"
      ],
      "execution_count": null,
      "outputs": [
        {
          "output_type": "execute_result",
          "data": {
            "text/plain": [
              "(700, 2)"
            ]
          },
          "metadata": {
            "tags": []
          },
          "execution_count": 11
        }
      ]
    },
    {
      "cell_type": "code",
      "metadata": {
        "id": "dAPmE0BlG7iH"
      },
      "source": [
        "#scaling data"
      ],
      "execution_count": null,
      "outputs": []
    },
    {
      "cell_type": "code",
      "metadata": {
        "id": "SATVaqm7HH7h"
      },
      "source": [
        "from sklearn.preprocessing import MinMaxScaler"
      ],
      "execution_count": null,
      "outputs": []
    },
    {
      "cell_type": "code",
      "metadata": {
        "id": "KcgAeQVMHZA3"
      },
      "source": [
        "scaler = MinMaxScaler()"
      ],
      "execution_count": null,
      "outputs": []
    },
    {
      "cell_type": "code",
      "metadata": {
        "colab": {
          "base_uri": "https://localhost:8080/"
        },
        "id": "79M307MeH_64",
        "outputId": "7b94ba99-59ae-49d9-bf08-202db05cca31"
      },
      "source": [
        "scaler.fit(X_train)"
      ],
      "execution_count": null,
      "outputs": [
        {
          "output_type": "execute_result",
          "data": {
            "text/plain": [
              "MinMaxScaler(copy=True, feature_range=(0, 1))"
            ]
          },
          "metadata": {
            "tags": []
          },
          "execution_count": 15
        }
      ]
    },
    {
      "cell_type": "code",
      "metadata": {
        "id": "OnsnfAr5IUtG"
      },
      "source": [
        "X_train = scaler.transform(X_train)"
      ],
      "execution_count": null,
      "outputs": []
    },
    {
      "cell_type": "code",
      "metadata": {
        "id": "_K8bB7KAIi_H"
      },
      "source": [
        "X_test = scaler.transform(X_test)"
      ],
      "execution_count": null,
      "outputs": []
    },
    {
      "cell_type": "markdown",
      "metadata": {
        "id": "z8-gHH_GJj-g"
      },
      "source": [
        "TensorFlow Syntax\r\n",
        "(use %tensorflow_version 1.x to use old versions of tf)"
      ]
    },
    {
      "cell_type": "code",
      "metadata": {
        "id": "XdUhiCWgJjP1"
      },
      "source": [
        "import tensorflow as tf"
      ],
      "execution_count": null,
      "outputs": []
    },
    {
      "cell_type": "code",
      "metadata": {
        "colab": {
          "base_uri": "https://localhost:8080/",
          "height": 35
        },
        "id": "c3zRM_1sI6xs",
        "outputId": "4487cc35-ef7d-42ba-cb42-c21adeb08e5e"
      },
      "source": [
        "tf.__version__"
      ],
      "execution_count": null,
      "outputs": [
        {
          "output_type": "execute_result",
          "data": {
            "application/vnd.google.colaboratory.intrinsic+json": {
              "type": "string"
            },
            "text/plain": [
              "'2.4.0'"
            ]
          },
          "metadata": {
            "tags": []
          },
          "execution_count": 19
        }
      ]
    },
    {
      "cell_type": "code",
      "metadata": {
        "id": "DpcXQagMJwbf"
      },
      "source": [
        "from tensorflow.keras.models import Sequential"
      ],
      "execution_count": null,
      "outputs": []
    },
    {
      "cell_type": "code",
      "metadata": {
        "id": "06qrdGsxTLKf"
      },
      "source": [
        "from tensorflow.keras.layers import Dense, Activation"
      ],
      "execution_count": null,
      "outputs": []
    },
    {
      "cell_type": "code",
      "metadata": {
        "id": "MeeHhiV9BNM8"
      },
      "source": [
        "from tensorflow.keras.callbacks import EarlyStopping"
      ],
      "execution_count": null,
      "outputs": []
    },
    {
      "cell_type": "code",
      "metadata": {
        "id": "HwVOwVfUBW28"
      },
      "source": [
        "early_stop = EarlyStopping(monitor=\"val_loss\", verbose=1, patience=15)"
      ],
      "execution_count": null,
      "outputs": []
    },
    {
      "cell_type": "code",
      "metadata": {
        "id": "pklsjhBaEVtv"
      },
      "source": [
        "from tensorflow.keras.optimizers import Adam, RMSprop"
      ],
      "execution_count": null,
      "outputs": []
    },
    {
      "cell_type": "code",
      "metadata": {
        "id": "o7i5SkdqTXhj"
      },
      "source": [
        "model = Sequential()\r\n",
        "model.add(Dense(4, input_dim=2, activation=\"relu\"))           #input_dim = 2  or input_dim = X_train.shape[0]\r\n",
        "model.add(Dense(4, activation=\"relu\"))\r\n",
        "model.add(Dense(2, activation=\"relu\"))\r\n",
        "model.add(Dense(1))\r\n",
        "opt = Adam(learning_rate=0.001)\r\n",
        "model.compile(optimizer=opt, loss=\"mse\")"
      ],
      "execution_count": null,
      "outputs": []
    },
    {
      "cell_type": "code",
      "metadata": {
        "colab": {
          "base_uri": "https://localhost:8080/"
        },
        "id": "TAXFz028TXkO",
        "outputId": "ff96535c-af64-4683-9c2d-d15804e8c3d1"
      },
      "source": [
        "model.fit(X_train, y_train, validation_data = (X_test, y_test), batch_size=32, epochs=750, callbacks=[early_stop])"
      ],
      "execution_count": null,
      "outputs": [
        {
          "output_type": "stream",
          "text": [
            "Epoch 1/750\n",
            "22/22 [==============================] - 1s 8ms/step - loss: 254708.0217 - val_loss: 258800.9844\n",
            "Epoch 2/750\n",
            "22/22 [==============================] - 0s 9ms/step - loss: 260535.2548 - val_loss: 258578.9062\n",
            "Epoch 3/750\n",
            "22/22 [==============================] - 0s 3ms/step - loss: 255004.9497 - val_loss: 258286.0312\n",
            "Epoch 4/750\n",
            "22/22 [==============================] - 0s 3ms/step - loss: 254254.7765 - val_loss: 257870.1406\n",
            "Epoch 5/750\n",
            "22/22 [==============================] - 0s 3ms/step - loss: 257581.4552 - val_loss: 257285.2344\n",
            "Epoch 6/750\n",
            "22/22 [==============================] - 0s 3ms/step - loss: 259802.6216 - val_loss: 256515.7812\n",
            "Epoch 7/750\n",
            "22/22 [==============================] - 0s 3ms/step - loss: 249220.4959 - val_loss: 255538.9531\n",
            "Epoch 8/750\n",
            "22/22 [==============================] - 0s 3ms/step - loss: 254199.3743 - val_loss: 254297.1250\n",
            "Epoch 9/750\n",
            "22/22 [==============================] - 0s 3ms/step - loss: 254893.7982 - val_loss: 252747.4688\n",
            "Epoch 10/750\n",
            "22/22 [==============================] - 0s 3ms/step - loss: 248500.7649 - val_loss: 250841.7031\n",
            "Epoch 11/750\n",
            "22/22 [==============================] - 0s 3ms/step - loss: 243811.9355 - val_loss: 248507.7812\n",
            "Epoch 12/750\n",
            "22/22 [==============================] - 0s 3ms/step - loss: 248585.9749 - val_loss: 245671.2500\n",
            "Epoch 13/750\n",
            "22/22 [==============================] - 0s 3ms/step - loss: 240873.0353 - val_loss: 242306.7969\n",
            "Epoch 14/750\n",
            "22/22 [==============================] - 0s 3ms/step - loss: 233346.8213 - val_loss: 238343.2500\n",
            "Epoch 15/750\n",
            "22/22 [==============================] - 0s 3ms/step - loss: 232674.1909 - val_loss: 233704.9062\n",
            "Epoch 16/750\n",
            "22/22 [==============================] - 0s 3ms/step - loss: 235027.3573 - val_loss: 228323.9219\n",
            "Epoch 17/750\n",
            "22/22 [==============================] - 0s 3ms/step - loss: 225724.2833 - val_loss: 222228.9688\n",
            "Epoch 18/750\n",
            "22/22 [==============================] - 0s 3ms/step - loss: 220587.1719 - val_loss: 215321.6406\n",
            "Epoch 19/750\n",
            "22/22 [==============================] - 0s 3ms/step - loss: 210386.5781 - val_loss: 207630.2344\n",
            "Epoch 20/750\n",
            "22/22 [==============================] - 0s 3ms/step - loss: 204082.2520 - val_loss: 199053.4688\n",
            "Epoch 21/750\n",
            "22/22 [==============================] - 0s 3ms/step - loss: 195706.1053 - val_loss: 189685.7031\n",
            "Epoch 22/750\n",
            "22/22 [==============================] - 0s 3ms/step - loss: 181318.4307 - val_loss: 179603.2188\n",
            "Epoch 23/750\n",
            "22/22 [==============================] - 0s 3ms/step - loss: 175282.2840 - val_loss: 168720.2969\n",
            "Epoch 24/750\n",
            "22/22 [==============================] - 0s 3ms/step - loss: 164840.6671 - val_loss: 157195.3438\n",
            "Epoch 25/750\n",
            "22/22 [==============================] - 0s 3ms/step - loss: 151107.2697 - val_loss: 145216.2500\n",
            "Epoch 26/750\n",
            "22/22 [==============================] - 0s 3ms/step - loss: 140659.2514 - val_loss: 132711.9844\n",
            "Epoch 27/750\n",
            "22/22 [==============================] - 0s 3ms/step - loss: 127102.9786 - val_loss: 120084.7891\n",
            "Epoch 28/750\n",
            "22/22 [==============================] - 0s 3ms/step - loss: 117975.3217 - val_loss: 107220.3828\n",
            "Epoch 29/750\n",
            "22/22 [==============================] - 0s 3ms/step - loss: 103336.7306 - val_loss: 94620.6562\n",
            "Epoch 30/750\n",
            "22/22 [==============================] - 0s 3ms/step - loss: 91825.5754 - val_loss: 82276.6172\n",
            "Epoch 31/750\n",
            "22/22 [==============================] - 0s 3ms/step - loss: 77426.8699 - val_loss: 70482.3359\n",
            "Epoch 32/750\n",
            "22/22 [==============================] - 0s 3ms/step - loss: 67059.3989 - val_loss: 59372.5781\n",
            "Epoch 33/750\n",
            "22/22 [==============================] - 0s 3ms/step - loss: 54008.7687 - val_loss: 49190.1914\n",
            "Epoch 34/750\n",
            "22/22 [==============================] - 0s 3ms/step - loss: 46425.0569 - val_loss: 39888.7734\n",
            "Epoch 35/750\n",
            "22/22 [==============================] - 0s 3ms/step - loss: 37665.8782 - val_loss: 31722.0234\n",
            "Epoch 36/750\n",
            "22/22 [==============================] - 0s 3ms/step - loss: 30412.1506 - val_loss: 24799.6895\n",
            "Epoch 37/750\n",
            "22/22 [==============================] - 0s 3ms/step - loss: 22545.1393 - val_loss: 19023.0664\n",
            "Epoch 38/750\n",
            "22/22 [==============================] - 0s 3ms/step - loss: 17739.8415 - val_loss: 14289.1533\n",
            "Epoch 39/750\n",
            "22/22 [==============================] - 0s 3ms/step - loss: 12799.8959 - val_loss: 10591.6260\n",
            "Epoch 40/750\n",
            "22/22 [==============================] - 0s 4ms/step - loss: 9763.5059 - val_loss: 7755.3423\n",
            "Epoch 41/750\n",
            "22/22 [==============================] - 0s 3ms/step - loss: 7222.2016 - val_loss: 5671.2256\n",
            "Epoch 42/750\n",
            "22/22 [==============================] - 0s 3ms/step - loss: 5066.2698 - val_loss: 4168.3389\n",
            "Epoch 43/750\n",
            "22/22 [==============================] - 0s 3ms/step - loss: 3769.3150 - val_loss: 3133.8926\n",
            "Epoch 44/750\n",
            "22/22 [==============================] - 0s 3ms/step - loss: 2952.0880 - val_loss: 2422.3772\n",
            "Epoch 45/750\n",
            "22/22 [==============================] - 0s 3ms/step - loss: 2270.4616 - val_loss: 1955.3912\n",
            "Epoch 46/750\n",
            "22/22 [==============================] - 0s 3ms/step - loss: 1820.4517 - val_loss: 1664.5044\n",
            "Epoch 47/750\n",
            "22/22 [==============================] - 0s 3ms/step - loss: 1636.6446 - val_loss: 1479.1649\n",
            "Epoch 48/750\n",
            "22/22 [==============================] - 0s 3ms/step - loss: 1415.6271 - val_loss: 1365.7504\n",
            "Epoch 49/750\n",
            "22/22 [==============================] - 0s 3ms/step - loss: 1317.8537 - val_loss: 1295.1663\n",
            "Epoch 50/750\n",
            "22/22 [==============================] - 0s 9ms/step - loss: 1237.9316 - val_loss: 1252.3522\n",
            "Epoch 51/750\n",
            "22/22 [==============================] - 0s 3ms/step - loss: 1244.7900 - val_loss: 1224.7816\n",
            "Epoch 52/750\n",
            "22/22 [==============================] - 0s 3ms/step - loss: 1301.8842 - val_loss: 1205.4639\n",
            "Epoch 53/750\n",
            "22/22 [==============================] - 0s 3ms/step - loss: 1248.5392 - val_loss: 1193.1545\n",
            "Epoch 54/750\n",
            "22/22 [==============================] - 0s 4ms/step - loss: 1245.9709 - val_loss: 1183.5920\n",
            "Epoch 55/750\n",
            "22/22 [==============================] - 0s 3ms/step - loss: 1278.0876 - val_loss: 1176.1061\n",
            "Epoch 56/750\n",
            "22/22 [==============================] - 0s 3ms/step - loss: 1128.5790 - val_loss: 1169.0281\n",
            "Epoch 57/750\n",
            "22/22 [==============================] - 0s 3ms/step - loss: 1107.2586 - val_loss: 1162.9009\n",
            "Epoch 58/750\n",
            "22/22 [==============================] - 0s 4ms/step - loss: 1193.7459 - val_loss: 1156.8356\n",
            "Epoch 59/750\n",
            "22/22 [==============================] - 0s 3ms/step - loss: 1183.5915 - val_loss: 1150.2886\n",
            "Epoch 60/750\n",
            "22/22 [==============================] - 0s 3ms/step - loss: 1149.9116 - val_loss: 1144.4330\n",
            "Epoch 61/750\n",
            "22/22 [==============================] - 0s 3ms/step - loss: 1209.7348 - val_loss: 1138.3073\n",
            "Epoch 62/750\n",
            "22/22 [==============================] - 0s 3ms/step - loss: 1170.4416 - val_loss: 1132.2847\n",
            "Epoch 63/750\n",
            "22/22 [==============================] - 0s 3ms/step - loss: 1163.9241 - val_loss: 1126.1436\n",
            "Epoch 64/750\n",
            "22/22 [==============================] - 0s 3ms/step - loss: 1093.0736 - val_loss: 1119.8375\n",
            "Epoch 65/750\n",
            "22/22 [==============================] - 0s 3ms/step - loss: 1161.3682 - val_loss: 1114.2257\n",
            "Epoch 66/750\n",
            "22/22 [==============================] - 0s 3ms/step - loss: 1164.5337 - val_loss: 1107.1921\n",
            "Epoch 67/750\n",
            "22/22 [==============================] - 0s 3ms/step - loss: 1114.9971 - val_loss: 1100.6681\n",
            "Epoch 68/750\n",
            "22/22 [==============================] - 0s 3ms/step - loss: 1159.1959 - val_loss: 1094.9031\n",
            "Epoch 69/750\n",
            "22/22 [==============================] - 0s 3ms/step - loss: 1085.3646 - val_loss: 1087.7533\n",
            "Epoch 70/750\n",
            "22/22 [==============================] - 0s 3ms/step - loss: 1181.2690 - val_loss: 1081.3590\n",
            "Epoch 71/750\n",
            "22/22 [==============================] - 0s 3ms/step - loss: 1112.3729 - val_loss: 1075.6021\n",
            "Epoch 72/750\n",
            "22/22 [==============================] - 0s 3ms/step - loss: 1022.0481 - val_loss: 1068.5841\n",
            "Epoch 73/750\n",
            "22/22 [==============================] - 0s 3ms/step - loss: 995.4420 - val_loss: 1061.0636\n",
            "Epoch 74/750\n",
            "22/22 [==============================] - 0s 3ms/step - loss: 1123.3882 - val_loss: 1054.9517\n",
            "Epoch 75/750\n",
            "22/22 [==============================] - 0s 3ms/step - loss: 1049.3067 - val_loss: 1047.8413\n",
            "Epoch 76/750\n",
            "22/22 [==============================] - 0s 3ms/step - loss: 1078.7720 - val_loss: 1040.6843\n",
            "Epoch 77/750\n",
            "22/22 [==============================] - 0s 3ms/step - loss: 1119.6824 - val_loss: 1033.5177\n",
            "Epoch 78/750\n",
            "22/22 [==============================] - 0s 3ms/step - loss: 1019.3403 - val_loss: 1026.8010\n",
            "Epoch 79/750\n",
            "22/22 [==============================] - 0s 3ms/step - loss: 1132.6135 - val_loss: 1019.4117\n",
            "Epoch 80/750\n",
            "22/22 [==============================] - 0s 3ms/step - loss: 1115.2563 - val_loss: 1012.0364\n",
            "Epoch 81/750\n",
            "22/22 [==============================] - 0s 3ms/step - loss: 973.0344 - val_loss: 1004.9230\n",
            "Epoch 82/750\n",
            "22/22 [==============================] - 0s 3ms/step - loss: 971.4184 - val_loss: 998.6766\n",
            "Epoch 83/750\n",
            "22/22 [==============================] - 0s 3ms/step - loss: 1021.4853 - val_loss: 990.5208\n",
            "Epoch 84/750\n",
            "22/22 [==============================] - 0s 3ms/step - loss: 1028.1428 - val_loss: 983.5478\n",
            "Epoch 85/750\n",
            "22/22 [==============================] - 0s 3ms/step - loss: 1016.6699 - val_loss: 976.1420\n",
            "Epoch 86/750\n",
            "22/22 [==============================] - 0s 3ms/step - loss: 1001.5711 - val_loss: 968.3673\n",
            "Epoch 87/750\n",
            "22/22 [==============================] - 0s 3ms/step - loss: 1024.3724 - val_loss: 960.9471\n",
            "Epoch 88/750\n",
            "22/22 [==============================] - 0s 3ms/step - loss: 1001.1268 - val_loss: 953.6932\n",
            "Epoch 89/750\n",
            "22/22 [==============================] - 0s 3ms/step - loss: 907.0430 - val_loss: 946.8287\n",
            "Epoch 90/750\n",
            "22/22 [==============================] - 0s 3ms/step - loss: 966.4262 - val_loss: 938.7493\n",
            "Epoch 91/750\n",
            "22/22 [==============================] - 0s 3ms/step - loss: 949.0713 - val_loss: 930.7599\n",
            "Epoch 92/750\n",
            "22/22 [==============================] - 0s 3ms/step - loss: 938.6353 - val_loss: 923.5432\n",
            "Epoch 93/750\n",
            "22/22 [==============================] - 0s 3ms/step - loss: 974.7036 - val_loss: 915.7126\n",
            "Epoch 94/750\n",
            "22/22 [==============================] - 0s 3ms/step - loss: 936.1382 - val_loss: 908.4757\n",
            "Epoch 95/750\n",
            "22/22 [==============================] - 0s 3ms/step - loss: 903.6424 - val_loss: 900.2881\n",
            "Epoch 96/750\n",
            "22/22 [==============================] - 0s 3ms/step - loss: 944.0295 - val_loss: 892.5840\n",
            "Epoch 97/750\n",
            "22/22 [==============================] - 0s 3ms/step - loss: 892.9101 - val_loss: 884.7590\n",
            "Epoch 98/750\n",
            "22/22 [==============================] - 0s 9ms/step - loss: 938.6260 - val_loss: 876.3159\n",
            "Epoch 99/750\n",
            "22/22 [==============================] - 0s 3ms/step - loss: 888.1856 - val_loss: 869.1929\n",
            "Epoch 100/750\n",
            "22/22 [==============================] - 0s 3ms/step - loss: 849.0621 - val_loss: 861.4998\n",
            "Epoch 101/750\n",
            "22/22 [==============================] - 0s 3ms/step - loss: 839.8778 - val_loss: 852.8511\n",
            "Epoch 102/750\n",
            "22/22 [==============================] - 0s 3ms/step - loss: 905.9448 - val_loss: 844.6542\n",
            "Epoch 103/750\n",
            "22/22 [==============================] - 0s 3ms/step - loss: 925.8899 - val_loss: 837.0065\n",
            "Epoch 104/750\n",
            "22/22 [==============================] - 0s 3ms/step - loss: 831.9727 - val_loss: 828.7006\n",
            "Epoch 105/750\n",
            "22/22 [==============================] - 0s 3ms/step - loss: 848.9443 - val_loss: 820.3529\n",
            "Epoch 106/750\n",
            "22/22 [==============================] - 0s 3ms/step - loss: 817.4517 - val_loss: 813.1946\n",
            "Epoch 107/750\n",
            "22/22 [==============================] - 0s 3ms/step - loss: 812.3317 - val_loss: 805.2133\n",
            "Epoch 108/750\n",
            "22/22 [==============================] - 0s 3ms/step - loss: 859.3838 - val_loss: 796.0932\n",
            "Epoch 109/750\n",
            "22/22 [==============================] - 0s 3ms/step - loss: 867.7247 - val_loss: 788.2094\n",
            "Epoch 110/750\n",
            "22/22 [==============================] - 0s 3ms/step - loss: 741.8387 - val_loss: 780.2861\n",
            "Epoch 111/750\n",
            "22/22 [==============================] - 0s 3ms/step - loss: 811.0550 - val_loss: 772.1066\n",
            "Epoch 112/750\n",
            "22/22 [==============================] - 0s 3ms/step - loss: 735.3714 - val_loss: 763.7007\n",
            "Epoch 113/750\n",
            "22/22 [==============================] - 0s 4ms/step - loss: 833.7886 - val_loss: 755.4282\n",
            "Epoch 114/750\n",
            "22/22 [==============================] - 0s 3ms/step - loss: 751.9358 - val_loss: 747.3358\n",
            "Epoch 115/750\n",
            "22/22 [==============================] - 0s 3ms/step - loss: 705.5123 - val_loss: 740.0335\n",
            "Epoch 116/750\n",
            "22/22 [==============================] - 0s 3ms/step - loss: 739.3019 - val_loss: 730.4664\n",
            "Epoch 117/750\n",
            "22/22 [==============================] - 0s 3ms/step - loss: 710.6950 - val_loss: 722.3455\n",
            "Epoch 118/750\n",
            "22/22 [==============================] - 0s 3ms/step - loss: 695.6049 - val_loss: 714.4584\n",
            "Epoch 119/750\n",
            "22/22 [==============================] - 0s 3ms/step - loss: 745.6081 - val_loss: 706.0586\n",
            "Epoch 120/750\n",
            "22/22 [==============================] - 0s 3ms/step - loss: 709.4578 - val_loss: 697.3326\n",
            "Epoch 121/750\n",
            "22/22 [==============================] - 0s 3ms/step - loss: 738.1359 - val_loss: 690.0620\n",
            "Epoch 122/750\n",
            "22/22 [==============================] - 0s 3ms/step - loss: 731.0253 - val_loss: 681.7634\n",
            "Epoch 123/750\n",
            "22/22 [==============================] - 0s 3ms/step - loss: 698.7232 - val_loss: 672.4555\n",
            "Epoch 124/750\n",
            "22/22 [==============================] - 0s 3ms/step - loss: 738.0908 - val_loss: 664.2434\n",
            "Epoch 125/750\n",
            "22/22 [==============================] - 0s 3ms/step - loss: 653.1034 - val_loss: 656.9311\n",
            "Epoch 126/750\n",
            "22/22 [==============================] - 0s 3ms/step - loss: 674.5411 - val_loss: 647.4310\n",
            "Epoch 127/750\n",
            "22/22 [==============================] - 0s 3ms/step - loss: 645.2554 - val_loss: 639.0540\n",
            "Epoch 128/750\n",
            "22/22 [==============================] - 0s 3ms/step - loss: 658.6848 - val_loss: 632.4958\n",
            "Epoch 129/750\n",
            "22/22 [==============================] - 0s 3ms/step - loss: 644.3667 - val_loss: 622.1998\n",
            "Epoch 130/750\n",
            "22/22 [==============================] - 0s 3ms/step - loss: 705.5912 - val_loss: 613.8078\n",
            "Epoch 131/750\n",
            "22/22 [==============================] - 0s 3ms/step - loss: 630.1141 - val_loss: 606.0261\n",
            "Epoch 132/750\n",
            "22/22 [==============================] - 0s 3ms/step - loss: 566.7532 - val_loss: 597.3568\n",
            "Epoch 133/750\n",
            "22/22 [==============================] - 0s 3ms/step - loss: 568.1899 - val_loss: 589.0612\n",
            "Epoch 134/750\n",
            "22/22 [==============================] - 0s 3ms/step - loss: 605.6660 - val_loss: 580.6965\n",
            "Epoch 135/750\n",
            "22/22 [==============================] - 0s 3ms/step - loss: 606.0426 - val_loss: 572.5811\n",
            "Epoch 136/750\n",
            "22/22 [==============================] - 0s 3ms/step - loss: 542.5606 - val_loss: 563.9772\n",
            "Epoch 137/750\n",
            "22/22 [==============================] - 0s 3ms/step - loss: 612.6721 - val_loss: 555.5638\n",
            "Epoch 138/750\n",
            "22/22 [==============================] - 0s 3ms/step - loss: 531.7505 - val_loss: 547.3168\n",
            "Epoch 139/750\n",
            "22/22 [==============================] - 0s 3ms/step - loss: 590.9983 - val_loss: 539.4456\n",
            "Epoch 140/750\n",
            "22/22 [==============================] - 0s 3ms/step - loss: 533.5180 - val_loss: 530.9708\n",
            "Epoch 141/750\n",
            "22/22 [==============================] - 0s 3ms/step - loss: 536.2365 - val_loss: 522.5478\n",
            "Epoch 142/750\n",
            "22/22 [==============================] - 0s 3ms/step - loss: 566.8479 - val_loss: 514.4185\n",
            "Epoch 143/750\n",
            "22/22 [==============================] - 0s 3ms/step - loss: 514.0546 - val_loss: 506.5358\n",
            "Epoch 144/750\n",
            "22/22 [==============================] - 0s 3ms/step - loss: 527.0797 - val_loss: 498.7432\n",
            "Epoch 145/750\n",
            "22/22 [==============================] - 0s 3ms/step - loss: 508.2026 - val_loss: 490.3202\n",
            "Epoch 146/750\n",
            "22/22 [==============================] - 0s 9ms/step - loss: 478.4386 - val_loss: 481.9057\n",
            "Epoch 147/750\n",
            "22/22 [==============================] - 0s 3ms/step - loss: 499.2187 - val_loss: 474.3620\n",
            "Epoch 148/750\n",
            "22/22 [==============================] - 0s 3ms/step - loss: 478.6718 - val_loss: 465.7846\n",
            "Epoch 149/750\n",
            "22/22 [==============================] - 0s 3ms/step - loss: 454.6379 - val_loss: 458.5288\n",
            "Epoch 150/750\n",
            "22/22 [==============================] - 0s 3ms/step - loss: 474.9434 - val_loss: 449.8716\n",
            "Epoch 151/750\n",
            "22/22 [==============================] - 0s 4ms/step - loss: 487.4851 - val_loss: 441.8703\n",
            "Epoch 152/750\n",
            "22/22 [==============================] - 0s 3ms/step - loss: 426.5352 - val_loss: 434.4006\n",
            "Epoch 153/750\n",
            "22/22 [==============================] - 0s 3ms/step - loss: 431.4733 - val_loss: 426.6743\n",
            "Epoch 154/750\n",
            "22/22 [==============================] - 0s 3ms/step - loss: 396.9441 - val_loss: 418.8852\n",
            "Epoch 155/750\n",
            "22/22 [==============================] - 0s 3ms/step - loss: 412.7909 - val_loss: 411.3497\n",
            "Epoch 156/750\n",
            "22/22 [==============================] - 0s 3ms/step - loss: 402.9579 - val_loss: 403.1557\n",
            "Epoch 157/750\n",
            "22/22 [==============================] - 0s 3ms/step - loss: 422.2741 - val_loss: 395.4129\n",
            "Epoch 158/750\n",
            "22/22 [==============================] - 0s 3ms/step - loss: 411.6777 - val_loss: 388.1933\n",
            "Epoch 159/750\n",
            "22/22 [==============================] - 0s 3ms/step - loss: 386.6761 - val_loss: 380.4119\n",
            "Epoch 160/750\n",
            "22/22 [==============================] - 0s 3ms/step - loss: 397.2298 - val_loss: 372.9689\n",
            "Epoch 161/750\n",
            "22/22 [==============================] - 0s 3ms/step - loss: 379.4458 - val_loss: 365.4985\n",
            "Epoch 162/750\n",
            "22/22 [==============================] - 0s 3ms/step - loss: 381.1216 - val_loss: 358.4171\n",
            "Epoch 163/750\n",
            "22/22 [==============================] - 0s 3ms/step - loss: 365.5441 - val_loss: 350.9285\n",
            "Epoch 164/750\n",
            "22/22 [==============================] - 0s 3ms/step - loss: 368.2166 - val_loss: 343.7980\n",
            "Epoch 165/750\n",
            "22/22 [==============================] - 0s 3ms/step - loss: 358.1259 - val_loss: 336.3884\n",
            "Epoch 166/750\n",
            "22/22 [==============================] - 0s 3ms/step - loss: 352.3006 - val_loss: 329.3570\n",
            "Epoch 167/750\n",
            "22/22 [==============================] - 0s 3ms/step - loss: 345.3650 - val_loss: 322.2151\n",
            "Epoch 168/750\n",
            "22/22 [==============================] - 0s 3ms/step - loss: 328.1863 - val_loss: 315.2721\n",
            "Epoch 169/750\n",
            "22/22 [==============================] - 0s 3ms/step - loss: 340.3827 - val_loss: 308.4030\n",
            "Epoch 170/750\n",
            "22/22 [==============================] - 0s 4ms/step - loss: 344.1052 - val_loss: 301.5746\n",
            "Epoch 171/750\n",
            "22/22 [==============================] - 0s 3ms/step - loss: 301.9259 - val_loss: 295.4882\n",
            "Epoch 172/750\n",
            "22/22 [==============================] - 0s 3ms/step - loss: 297.6339 - val_loss: 288.1785\n",
            "Epoch 173/750\n",
            "22/22 [==============================] - 0s 3ms/step - loss: 308.2057 - val_loss: 281.5409\n",
            "Epoch 174/750\n",
            "22/22 [==============================] - 0s 3ms/step - loss: 312.3155 - val_loss: 275.3053\n",
            "Epoch 175/750\n",
            "22/22 [==============================] - 0s 3ms/step - loss: 293.4981 - val_loss: 268.5000\n",
            "Epoch 176/750\n",
            "22/22 [==============================] - 0s 3ms/step - loss: 293.2829 - val_loss: 262.1294\n",
            "Epoch 177/750\n",
            "22/22 [==============================] - 0s 3ms/step - loss: 252.5185 - val_loss: 255.9563\n",
            "Epoch 178/750\n",
            "22/22 [==============================] - 0s 3ms/step - loss: 257.6862 - val_loss: 250.0374\n",
            "Epoch 179/750\n",
            "22/22 [==============================] - 0s 3ms/step - loss: 256.2267 - val_loss: 243.6234\n",
            "Epoch 180/750\n",
            "22/22 [==============================] - 0s 3ms/step - loss: 274.2652 - val_loss: 237.6125\n",
            "Epoch 181/750\n",
            "22/22 [==============================] - 0s 3ms/step - loss: 230.1296 - val_loss: 231.7927\n",
            "Epoch 182/750\n",
            "22/22 [==============================] - 0s 4ms/step - loss: 228.3899 - val_loss: 225.9101\n",
            "Epoch 183/750\n",
            "22/22 [==============================] - 0s 3ms/step - loss: 213.5409 - val_loss: 220.2201\n",
            "Epoch 184/750\n",
            "22/22 [==============================] - 0s 3ms/step - loss: 240.0857 - val_loss: 214.4754\n",
            "Epoch 185/750\n",
            "22/22 [==============================] - 0s 3ms/step - loss: 214.9945 - val_loss: 208.9557\n",
            "Epoch 186/750\n",
            "22/22 [==============================] - 0s 3ms/step - loss: 206.8522 - val_loss: 203.2273\n",
            "Epoch 187/750\n",
            "22/22 [==============================] - 0s 3ms/step - loss: 220.8403 - val_loss: 197.7247\n",
            "Epoch 188/750\n",
            "22/22 [==============================] - 0s 3ms/step - loss: 197.4591 - val_loss: 192.4605\n",
            "Epoch 189/750\n",
            "22/22 [==============================] - 0s 3ms/step - loss: 178.3262 - val_loss: 187.3696\n",
            "Epoch 190/750\n",
            "22/22 [==============================] - 0s 3ms/step - loss: 209.9057 - val_loss: 182.0267\n",
            "Epoch 191/750\n",
            "22/22 [==============================] - 0s 3ms/step - loss: 189.8341 - val_loss: 177.0699\n",
            "Epoch 192/750\n",
            "22/22 [==============================] - 0s 3ms/step - loss: 182.7003 - val_loss: 172.2416\n",
            "Epoch 193/750\n",
            "22/22 [==============================] - 0s 3ms/step - loss: 182.0613 - val_loss: 167.2180\n",
            "Epoch 194/750\n",
            "22/22 [==============================] - 0s 9ms/step - loss: 171.3324 - val_loss: 162.4747\n",
            "Epoch 195/750\n",
            "22/22 [==============================] - 0s 3ms/step - loss: 152.0218 - val_loss: 158.0183\n",
            "Epoch 196/750\n",
            "22/22 [==============================] - 0s 3ms/step - loss: 159.7113 - val_loss: 153.2834\n",
            "Epoch 197/750\n",
            "22/22 [==============================] - 0s 3ms/step - loss: 154.7383 - val_loss: 148.6780\n",
            "Epoch 198/750\n",
            "22/22 [==============================] - 0s 3ms/step - loss: 146.9003 - val_loss: 144.4303\n",
            "Epoch 199/750\n",
            "22/22 [==============================] - 0s 3ms/step - loss: 153.1519 - val_loss: 139.9971\n",
            "Epoch 200/750\n",
            "22/22 [==============================] - 0s 3ms/step - loss: 132.7466 - val_loss: 136.0196\n",
            "Epoch 201/750\n",
            "22/22 [==============================] - 0s 3ms/step - loss: 139.3474 - val_loss: 131.7534\n",
            "Epoch 202/750\n",
            "22/22 [==============================] - 0s 3ms/step - loss: 142.3581 - val_loss: 127.7027\n",
            "Epoch 203/750\n",
            "22/22 [==============================] - 0s 3ms/step - loss: 131.5267 - val_loss: 123.9149\n",
            "Epoch 204/750\n",
            "22/22 [==============================] - 0s 3ms/step - loss: 131.0446 - val_loss: 120.0756\n",
            "Epoch 205/750\n",
            "22/22 [==============================] - 0s 3ms/step - loss: 121.0310 - val_loss: 116.4259\n",
            "Epoch 206/750\n",
            "22/22 [==============================] - 0s 3ms/step - loss: 119.8877 - val_loss: 112.7517\n",
            "Epoch 207/750\n",
            "22/22 [==============================] - 0s 3ms/step - loss: 125.3880 - val_loss: 109.1476\n",
            "Epoch 208/750\n",
            "22/22 [==============================] - 0s 3ms/step - loss: 106.2561 - val_loss: 105.8650\n",
            "Epoch 209/750\n",
            "22/22 [==============================] - 0s 3ms/step - loss: 114.4748 - val_loss: 102.5742\n",
            "Epoch 210/750\n",
            "22/22 [==============================] - 0s 4ms/step - loss: 103.0423 - val_loss: 99.2866\n",
            "Epoch 211/750\n",
            "22/22 [==============================] - 0s 3ms/step - loss: 95.0170 - val_loss: 96.2972\n",
            "Epoch 212/750\n",
            "22/22 [==============================] - 0s 3ms/step - loss: 98.8340 - val_loss: 93.0976\n",
            "Epoch 213/750\n",
            "22/22 [==============================] - 0s 3ms/step - loss: 98.6305 - val_loss: 90.0932\n",
            "Epoch 214/750\n",
            "22/22 [==============================] - 0s 3ms/step - loss: 91.9130 - val_loss: 87.2242\n",
            "Epoch 215/750\n",
            "22/22 [==============================] - 0s 3ms/step - loss: 82.6525 - val_loss: 84.5238\n",
            "Epoch 216/750\n",
            "22/22 [==============================] - 0s 3ms/step - loss: 82.9305 - val_loss: 82.0427\n",
            "Epoch 217/750\n",
            "22/22 [==============================] - 0s 3ms/step - loss: 94.7174 - val_loss: 79.2289\n",
            "Epoch 218/750\n",
            "22/22 [==============================] - 0s 3ms/step - loss: 80.5222 - val_loss: 76.6762\n",
            "Epoch 219/750\n",
            "22/22 [==============================] - 0s 3ms/step - loss: 77.0440 - val_loss: 74.2712\n",
            "Epoch 220/750\n",
            "22/22 [==============================] - 0s 3ms/step - loss: 76.8707 - val_loss: 71.9666\n",
            "Epoch 221/750\n",
            "22/22 [==============================] - 0s 4ms/step - loss: 75.8802 - val_loss: 69.8151\n",
            "Epoch 222/750\n",
            "22/22 [==============================] - 0s 3ms/step - loss: 73.9894 - val_loss: 67.6609\n",
            "Epoch 223/750\n",
            "22/22 [==============================] - 0s 3ms/step - loss: 65.5436 - val_loss: 65.8372\n",
            "Epoch 224/750\n",
            "22/22 [==============================] - 0s 3ms/step - loss: 68.3488 - val_loss: 63.2962\n",
            "Epoch 225/750\n",
            "22/22 [==============================] - 0s 3ms/step - loss: 62.0047 - val_loss: 61.3835\n",
            "Epoch 226/750\n",
            "22/22 [==============================] - 0s 3ms/step - loss: 65.3654 - val_loss: 59.4993\n",
            "Epoch 227/750\n",
            "22/22 [==============================] - 0s 3ms/step - loss: 64.9622 - val_loss: 57.6951\n",
            "Epoch 228/750\n",
            "22/22 [==============================] - 0s 3ms/step - loss: 63.8746 - val_loss: 56.0290\n",
            "Epoch 229/750\n",
            "22/22 [==============================] - 0s 3ms/step - loss: 57.8119 - val_loss: 54.3103\n",
            "Epoch 230/750\n",
            "22/22 [==============================] - 0s 3ms/step - loss: 54.1621 - val_loss: 52.9257\n",
            "Epoch 231/750\n",
            "22/22 [==============================] - 0s 3ms/step - loss: 52.6220 - val_loss: 51.2309\n",
            "Epoch 232/750\n",
            "22/22 [==============================] - 0s 3ms/step - loss: 46.4642 - val_loss: 50.2851\n",
            "Epoch 233/750\n",
            "22/22 [==============================] - 0s 3ms/step - loss: 49.7060 - val_loss: 48.4911\n",
            "Epoch 234/750\n",
            "22/22 [==============================] - 0s 3ms/step - loss: 55.3116 - val_loss: 47.0917\n",
            "Epoch 235/750\n",
            "22/22 [==============================] - 0s 4ms/step - loss: 42.9291 - val_loss: 45.7697\n",
            "Epoch 236/750\n",
            "22/22 [==============================] - 0s 3ms/step - loss: 51.3505 - val_loss: 44.7356\n",
            "Epoch 237/750\n",
            "22/22 [==============================] - 0s 3ms/step - loss: 45.5600 - val_loss: 43.3731\n",
            "Epoch 238/750\n",
            "22/22 [==============================] - 0s 3ms/step - loss: 47.0658 - val_loss: 42.2891\n",
            "Epoch 239/750\n",
            "22/22 [==============================] - 0s 3ms/step - loss: 42.4330 - val_loss: 41.3346\n",
            "Epoch 240/750\n",
            "22/22 [==============================] - 0s 3ms/step - loss: 41.7795 - val_loss: 40.5908\n",
            "Epoch 241/750\n",
            "22/22 [==============================] - 0s 3ms/step - loss: 40.9525 - val_loss: 39.3008\n",
            "Epoch 242/750\n",
            "22/22 [==============================] - 0s 9ms/step - loss: 40.8091 - val_loss: 38.8043\n",
            "Epoch 243/750\n",
            "22/22 [==============================] - 0s 3ms/step - loss: 39.3677 - val_loss: 37.8341\n",
            "Epoch 244/750\n",
            "22/22 [==============================] - 0s 3ms/step - loss: 32.2476 - val_loss: 36.7383\n",
            "Epoch 245/750\n",
            "22/22 [==============================] - 0s 3ms/step - loss: 36.7195 - val_loss: 36.0277\n",
            "Epoch 246/750\n",
            "22/22 [==============================] - 0s 3ms/step - loss: 36.8307 - val_loss: 35.2284\n",
            "Epoch 247/750\n",
            "22/22 [==============================] - 0s 3ms/step - loss: 33.5056 - val_loss: 35.1801\n",
            "Epoch 248/750\n",
            "22/22 [==============================] - 0s 3ms/step - loss: 34.0642 - val_loss: 33.9300\n",
            "Epoch 249/750\n",
            "22/22 [==============================] - 0s 3ms/step - loss: 29.6254 - val_loss: 33.6927\n",
            "Epoch 250/750\n",
            "22/22 [==============================] - 0s 3ms/step - loss: 32.5642 - val_loss: 32.8533\n",
            "Epoch 251/750\n",
            "22/22 [==============================] - 0s 4ms/step - loss: 32.3169 - val_loss: 32.2800\n",
            "Epoch 252/750\n",
            "22/22 [==============================] - 0s 3ms/step - loss: 30.7260 - val_loss: 31.8876\n",
            "Epoch 253/750\n",
            "22/22 [==============================] - 0s 3ms/step - loss: 29.8401 - val_loss: 31.3717\n",
            "Epoch 254/750\n",
            "22/22 [==============================] - 0s 3ms/step - loss: 32.5048 - val_loss: 31.3307\n",
            "Epoch 255/750\n",
            "22/22 [==============================] - 0s 3ms/step - loss: 29.9510 - val_loss: 30.4649\n",
            "Epoch 256/750\n",
            "22/22 [==============================] - 0s 4ms/step - loss: 31.6438 - val_loss: 30.5081\n",
            "Epoch 257/750\n",
            "22/22 [==============================] - 0s 3ms/step - loss: 29.4115 - val_loss: 29.6501\n",
            "Epoch 258/750\n",
            "22/22 [==============================] - 0s 3ms/step - loss: 28.4125 - val_loss: 29.3870\n",
            "Epoch 259/750\n",
            "22/22 [==============================] - 0s 4ms/step - loss: 26.8366 - val_loss: 29.2414\n",
            "Epoch 260/750\n",
            "22/22 [==============================] - 0s 3ms/step - loss: 26.0394 - val_loss: 28.6059\n",
            "Epoch 261/750\n",
            "22/22 [==============================] - 0s 3ms/step - loss: 30.7906 - val_loss: 28.5007\n",
            "Epoch 262/750\n",
            "22/22 [==============================] - 0s 3ms/step - loss: 28.6429 - val_loss: 28.3604\n",
            "Epoch 263/750\n",
            "22/22 [==============================] - 0s 4ms/step - loss: 27.5885 - val_loss: 28.1511\n",
            "Epoch 264/750\n",
            "22/22 [==============================] - 0s 3ms/step - loss: 28.4855 - val_loss: 27.5856\n",
            "Epoch 265/750\n",
            "22/22 [==============================] - 0s 3ms/step - loss: 25.8385 - val_loss: 27.3969\n",
            "Epoch 266/750\n",
            "22/22 [==============================] - 0s 3ms/step - loss: 26.0409 - val_loss: 27.9617\n",
            "Epoch 267/750\n",
            "22/22 [==============================] - 0s 3ms/step - loss: 27.5066 - val_loss: 27.0140\n",
            "Epoch 268/750\n",
            "22/22 [==============================] - 0s 3ms/step - loss: 26.8433 - val_loss: 27.1383\n",
            "Epoch 269/750\n",
            "22/22 [==============================] - 0s 3ms/step - loss: 24.7599 - val_loss: 27.0371\n",
            "Epoch 270/750\n",
            "22/22 [==============================] - 0s 3ms/step - loss: 27.7954 - val_loss: 27.6475\n",
            "Epoch 271/750\n",
            "22/22 [==============================] - 0s 3ms/step - loss: 24.9547 - val_loss: 26.4339\n",
            "Epoch 272/750\n",
            "22/22 [==============================] - 0s 3ms/step - loss: 24.4993 - val_loss: 26.2993\n",
            "Epoch 273/750\n",
            "22/22 [==============================] - 0s 3ms/step - loss: 26.7445 - val_loss: 27.8538\n",
            "Epoch 274/750\n",
            "22/22 [==============================] - 0s 4ms/step - loss: 24.6909 - val_loss: 26.0712\n",
            "Epoch 275/750\n",
            "22/22 [==============================] - 0s 3ms/step - loss: 25.9253 - val_loss: 26.3436\n",
            "Epoch 276/750\n",
            "22/22 [==============================] - 0s 4ms/step - loss: 26.6705 - val_loss: 26.0760\n",
            "Epoch 277/750\n",
            "22/22 [==============================] - 0s 3ms/step - loss: 26.2003 - val_loss: 25.8727\n",
            "Epoch 278/750\n",
            "22/22 [==============================] - 0s 3ms/step - loss: 24.3251 - val_loss: 26.4107\n",
            "Epoch 279/750\n",
            "22/22 [==============================] - 0s 3ms/step - loss: 24.5317 - val_loss: 25.9870\n",
            "Epoch 280/750\n",
            "22/22 [==============================] - 0s 3ms/step - loss: 24.6202 - val_loss: 25.7530\n",
            "Epoch 281/750\n",
            "22/22 [==============================] - 0s 3ms/step - loss: 24.8545 - val_loss: 25.9069\n",
            "Epoch 282/750\n",
            "22/22 [==============================] - 0s 3ms/step - loss: 22.7050 - val_loss: 25.5585\n",
            "Epoch 283/750\n",
            "22/22 [==============================] - 0s 3ms/step - loss: 24.2713 - val_loss: 25.7378\n",
            "Epoch 284/750\n",
            "22/22 [==============================] - 0s 3ms/step - loss: 22.7669 - val_loss: 26.1107\n",
            "Epoch 285/750\n",
            "22/22 [==============================] - 0s 4ms/step - loss: 23.8812 - val_loss: 25.9935\n",
            "Epoch 286/750\n",
            "22/22 [==============================] - 0s 3ms/step - loss: 23.3303 - val_loss: 25.3525\n",
            "Epoch 287/750\n",
            "22/22 [==============================] - 0s 3ms/step - loss: 26.8217 - val_loss: 25.3202\n",
            "Epoch 288/750\n",
            "22/22 [==============================] - 0s 4ms/step - loss: 25.3089 - val_loss: 25.2974\n",
            "Epoch 289/750\n",
            "22/22 [==============================] - 0s 3ms/step - loss: 24.0217 - val_loss: 25.2961\n",
            "Epoch 290/750\n",
            "22/22 [==============================] - 0s 9ms/step - loss: 23.7889 - val_loss: 25.2209\n",
            "Epoch 291/750\n",
            "22/22 [==============================] - 0s 3ms/step - loss: 22.7332 - val_loss: 26.5071\n",
            "Epoch 292/750\n",
            "22/22 [==============================] - 0s 3ms/step - loss: 23.9749 - val_loss: 25.1917\n",
            "Epoch 293/750\n",
            "22/22 [==============================] - 0s 3ms/step - loss: 25.7405 - val_loss: 25.1857\n",
            "Epoch 294/750\n",
            "22/22 [==============================] - 0s 4ms/step - loss: 22.4925 - val_loss: 25.4585\n",
            "Epoch 295/750\n",
            "22/22 [==============================] - 0s 3ms/step - loss: 23.5019 - val_loss: 26.2938\n",
            "Epoch 296/750\n",
            "22/22 [==============================] - 0s 3ms/step - loss: 24.0539 - val_loss: 25.6620\n",
            "Epoch 297/750\n",
            "22/22 [==============================] - 0s 3ms/step - loss: 22.7386 - val_loss: 26.0209\n",
            "Epoch 298/750\n",
            "22/22 [==============================] - 0s 3ms/step - loss: 23.7679 - val_loss: 25.3069\n",
            "Epoch 299/750\n",
            "22/22 [==============================] - 0s 3ms/step - loss: 22.0618 - val_loss: 25.1154\n",
            "Epoch 300/750\n",
            "22/22 [==============================] - 0s 3ms/step - loss: 25.5881 - val_loss: 25.3916\n",
            "Epoch 301/750\n",
            "22/22 [==============================] - 0s 3ms/step - loss: 24.0525 - val_loss: 25.4601\n",
            "Epoch 302/750\n",
            "22/22 [==============================] - 0s 3ms/step - loss: 24.0530 - val_loss: 25.0620\n",
            "Epoch 303/750\n",
            "22/22 [==============================] - 0s 3ms/step - loss: 24.7922 - val_loss: 25.0483\n",
            "Epoch 304/750\n",
            "22/22 [==============================] - 0s 3ms/step - loss: 24.2104 - val_loss: 25.4249\n",
            "Epoch 305/750\n",
            "22/22 [==============================] - 0s 3ms/step - loss: 25.5449 - val_loss: 26.0430\n",
            "Epoch 306/750\n",
            "22/22 [==============================] - 0s 3ms/step - loss: 25.0135 - val_loss: 26.6974\n",
            "Epoch 307/750\n",
            "22/22 [==============================] - 0s 3ms/step - loss: 22.7234 - val_loss: 25.3381\n",
            "Epoch 308/750\n",
            "22/22 [==============================] - 0s 4ms/step - loss: 23.7707 - val_loss: 25.0547\n",
            "Epoch 309/750\n",
            "22/22 [==============================] - 0s 3ms/step - loss: 21.9970 - val_loss: 25.0420\n",
            "Epoch 310/750\n",
            "22/22 [==============================] - 0s 3ms/step - loss: 24.3615 - val_loss: 25.0139\n",
            "Epoch 311/750\n",
            "22/22 [==============================] - 0s 3ms/step - loss: 22.6666 - val_loss: 25.7045\n",
            "Epoch 312/750\n",
            "22/22 [==============================] - 0s 3ms/step - loss: 25.4469 - val_loss: 25.0603\n",
            "Epoch 313/750\n",
            "22/22 [==============================] - 0s 3ms/step - loss: 21.9260 - val_loss: 25.0963\n",
            "Epoch 314/750\n",
            "22/22 [==============================] - 0s 3ms/step - loss: 23.5492 - val_loss: 25.0112\n",
            "Epoch 315/750\n",
            "22/22 [==============================] - 0s 3ms/step - loss: 24.1300 - val_loss: 25.0193\n",
            "Epoch 316/750\n",
            "22/22 [==============================] - 0s 3ms/step - loss: 23.4105 - val_loss: 25.1536\n",
            "Epoch 317/750\n",
            "22/22 [==============================] - 0s 3ms/step - loss: 21.6603 - val_loss: 25.9007\n",
            "Epoch 318/750\n",
            "22/22 [==============================] - 0s 3ms/step - loss: 21.8754 - val_loss: 25.1409\n",
            "Epoch 319/750\n",
            "22/22 [==============================] - 0s 3ms/step - loss: 23.0980 - val_loss: 26.4309\n",
            "Epoch 320/750\n",
            "22/22 [==============================] - 0s 3ms/step - loss: 23.1259 - val_loss: 25.6831\n",
            "Epoch 321/750\n",
            "22/22 [==============================] - 0s 3ms/step - loss: 24.4298 - val_loss: 25.6810\n",
            "Epoch 322/750\n",
            "22/22 [==============================] - 0s 3ms/step - loss: 25.7872 - val_loss: 26.3541\n",
            "Epoch 323/750\n",
            "22/22 [==============================] - 0s 3ms/step - loss: 24.6606 - val_loss: 26.1313\n",
            "Epoch 324/750\n",
            "22/22 [==============================] - 0s 3ms/step - loss: 22.9346 - val_loss: 25.1829\n",
            "Epoch 325/750\n",
            "22/22 [==============================] - 0s 3ms/step - loss: 23.5177 - val_loss: 24.9867\n",
            "Epoch 326/750\n",
            "22/22 [==============================] - 0s 3ms/step - loss: 22.7076 - val_loss: 25.0596\n",
            "Epoch 327/750\n",
            "22/22 [==============================] - 0s 3ms/step - loss: 23.6257 - val_loss: 25.7542\n",
            "Epoch 328/750\n",
            "22/22 [==============================] - 0s 3ms/step - loss: 24.9195 - val_loss: 25.7750\n",
            "Epoch 329/750\n",
            "22/22 [==============================] - 0s 3ms/step - loss: 23.1435 - val_loss: 25.3681\n",
            "Epoch 330/750\n",
            "22/22 [==============================] - 0s 3ms/step - loss: 24.6754 - val_loss: 25.0312\n",
            "Epoch 331/750\n",
            "22/22 [==============================] - 0s 3ms/step - loss: 25.9933 - val_loss: 24.9878\n",
            "Epoch 332/750\n",
            "22/22 [==============================] - 0s 3ms/step - loss: 25.6524 - val_loss: 25.0305\n",
            "Epoch 333/750\n",
            "22/22 [==============================] - 0s 3ms/step - loss: 26.5854 - val_loss: 25.0542\n",
            "Epoch 334/750\n",
            "22/22 [==============================] - 0s 3ms/step - loss: 23.4517 - val_loss: 25.1979\n",
            "Epoch 335/750\n",
            "22/22 [==============================] - 0s 3ms/step - loss: 22.9316 - val_loss: 25.5179\n",
            "Epoch 336/750\n",
            "22/22 [==============================] - 0s 3ms/step - loss: 25.8754 - val_loss: 25.1057\n",
            "Epoch 337/750\n",
            "22/22 [==============================] - 0s 3ms/step - loss: 22.8710 - val_loss: 24.9924\n",
            "Epoch 338/750\n",
            "22/22 [==============================] - 0s 9ms/step - loss: 24.4298 - val_loss: 25.2627\n",
            "Epoch 339/750\n",
            "22/22 [==============================] - 0s 3ms/step - loss: 23.5183 - val_loss: 25.4689\n",
            "Epoch 340/750\n",
            "22/22 [==============================] - 0s 3ms/step - loss: 23.3624 - val_loss: 25.3122\n",
            "Epoch 00340: early stopping\n"
          ],
          "name": "stdout"
        },
        {
          "output_type": "execute_result",
          "data": {
            "text/plain": [
              "<tensorflow.python.keras.callbacks.History at 0x7fbd3b8e24a8>"
            ]
          },
          "metadata": {
            "tags": []
          },
          "execution_count": 58
        }
      ]
    },
    {
      "cell_type": "code",
      "metadata": {
        "colab": {
          "base_uri": "https://localhost:8080/"
        },
        "id": "8KPU0R2-YaWY",
        "outputId": "7975bebb-af6a-445f-b05e-91fa13c5bdf0"
      },
      "source": [
        "model.summary()"
      ],
      "execution_count": null,
      "outputs": [
        {
          "output_type": "stream",
          "text": [
            "Model: \"sequential\"\n",
            "_________________________________________________________________\n",
            "Layer (type)                 Output Shape              Param #   \n",
            "=================================================================\n",
            "dense (Dense)                (None, 4)                 12        \n",
            "_________________________________________________________________\n",
            "dense_1 (Dense)              (None, 4)                 20        \n",
            "_________________________________________________________________\n",
            "dense_2 (Dense)              (None, 2)                 10        \n",
            "_________________________________________________________________\n",
            "dense_3 (Dense)              (None, 1)                 3         \n",
            "=================================================================\n",
            "Total params: 45\n",
            "Trainable params: 45\n",
            "Non-trainable params: 0\n",
            "_________________________________________________________________\n"
          ],
          "name": "stdout"
        }
      ]
    },
    {
      "cell_type": "code",
      "metadata": {
        "id": "SEBWFHhyiu5W"
      },
      "source": [
        "loss_df=pd.DataFrame(model.history.history)"
      ],
      "execution_count": null,
      "outputs": []
    },
    {
      "cell_type": "code",
      "metadata": {
        "colab": {
          "base_uri": "https://localhost:8080/",
          "height": 282
        },
        "id": "d3YnREPSizsq",
        "outputId": "97ca4cfa-ad87-469a-a67a-59eab3a85de4"
      },
      "source": [
        "loss_df.plot()"
      ],
      "execution_count": null,
      "outputs": [
        {
          "output_type": "execute_result",
          "data": {
            "text/plain": [
              "<matplotlib.axes._subplots.AxesSubplot at 0x7fbd40c7df28>"
            ]
          },
          "metadata": {
            "tags": []
          },
          "execution_count": 28
        },
        {
          "output_type": "display_data",
          "data": {
            "image/png": "[encoded data removed]",
            "text/plain": [
              "<Figure size 432x288 with 1 Axes>"
            ]
          },
          "metadata": {
            "tags": [],
            "needs_background": "light"
          }
        }
      ]
    },
    {
      "cell_type": "code",
      "metadata": {
        "colab": {
          "base_uri": "https://localhost:8080/",
          "height": 312
        },
        "id": "DeTYaThCLdV6",
        "outputId": "4d7c3ff6-38d2-46dc-cedf-f1abc3c09fe1"
      },
      "source": [
        "import matplotlib.pyplot as plt\r\n",
        "\r\n",
        "fig, ax= plt.subplots()\r\n",
        "ax.plot(loss_df)\r\n",
        "ax.set_xlabel(\"epoch\")\r\n",
        "ax.set_ylabel(\"loss\")\r\n",
        "ax.set_title(\"loss - epoch graph\")\r\n",
        "ax.set_xlim([0,250]) # focusing on the given x values\r\n",
        "ax.set_ylim([0,100]) # focusing on the given y values"
      ],
      "execution_count": null,
      "outputs": [
        {
          "output_type": "execute_result",
          "data": {
            "text/plain": [
              "(0.0, 100.0)"
            ]
          },
          "metadata": {
            "tags": []
          },
          "execution_count": 29
        },
        {
          "output_type": "display_data",
          "data": {
            "image/png": "[encoded data removed]",
            "text/plain": [
              "<Figure size 432x288 with 1 Axes>"
            ]
          },
          "metadata": {
            "tags": [],
            "needs_background": "light"
          }
        }
      ]
    },
    {
      "cell_type": "code",
      "metadata": {
        "id": "46hrlI_llH8r"
      },
      "source": [
        "from sklearn.metrics import mean_absolute_error\r\n",
        "from sklearn.metrics import mean_squared_error, mean_absolute_error, r2_score\r\n",
        "import numpy as np"
      ],
      "execution_count": null,
      "outputs": []
    },
    {
      "cell_type": "code",
      "metadata": {
        "id": "TRbo5Z5UlP4-"
      },
      "source": [
        "def eval_metrics(actual, pred):\r\n",
        "    rmse = np.sqrt(mean_squared_error(actual, pred))\r\n",
        "    mae = mean_absolute_error(actual, pred)\r\n",
        "    mse = mean_squared_error(actual, pred)\r\n",
        "    score = r2_score(actual, pred)\r\n",
        "    return print(\"r2_score:\", score, \"\\n\",\"mae:\", mae, \"\\n\",\"mse:\",mse, \"\\n\",\"rmse:\",rmse)"
      ],
      "execution_count": null,
      "outputs": []
    },
    {
      "cell_type": "code",
      "metadata": {
        "id": "2ngMwPk5laAp"
      },
      "source": [
        "y_pred = model.predict(X_test)"
      ],
      "execution_count": null,
      "outputs": []
    },
    {
      "cell_type": "code",
      "metadata": {
        "colab": {
          "base_uri": "https://localhost:8080/"
        },
        "id": "F7zMsMpOmKCS",
        "outputId": "2e182c1f-ff13-481a-95ca-d60db63627dc"
      },
      "source": [
        "eval_metrics(y_test, y_pred)"
      ],
      "execution_count": null,
      "outputs": [
        {
          "output_type": "stream",
          "text": [
            "r2_score: 0.9971453495888065 \n",
            " mae: 4.01684474163254 \n",
            " mse: 25.098176808896568 \n",
            " rmse: 5.009808061083435\n"
          ],
          "name": "stdout"
        }
      ]
    },
    {
      "cell_type": "code",
      "metadata": {
        "colab": {
          "base_uri": "https://localhost:8080/"
        },
        "id": "1k3-gKSdlepr",
        "outputId": "fd37a7d0-0ec5-40d4-b416-ec8e31776dff"
      },
      "source": [
        "y_test.shape"
      ],
      "execution_count": null,
      "outputs": [
        {
          "output_type": "execute_result",
          "data": {
            "text/plain": [
              "(300,)"
            ]
          },
          "metadata": {
            "tags": []
          },
          "execution_count": 34
        }
      ]
    },
    {
      "cell_type": "code",
      "metadata": {
        "colab": {
          "base_uri": "https://localhost:8080/"
        },
        "id": "nbuMkuG5lsyp",
        "outputId": "9d3a194f-cd82-45f8-e684-579f04013d20"
      },
      "source": [
        "y_pred.shape"
      ],
      "execution_count": null,
      "outputs": [
        {
          "output_type": "execute_result",
          "data": {
            "text/plain": [
              "(300, 1)"
            ]
          },
          "metadata": {
            "tags": []
          },
          "execution_count": 35
        }
      ]
    },
    {
      "cell_type": "code",
      "metadata": {
        "id": "Q2OC0-XVlwX4"
      },
      "source": [
        "my_dict={\"Actual\":y_test, \"Pred\":y_pred.reshape(300,)}\r\n",
        "compare=pd.DataFrame(my_dict)"
      ],
      "execution_count": null,
      "outputs": []
    },
    {
      "cell_type": "code",
      "metadata": {
        "colab": {
          "base_uri": "https://localhost:8080/",
          "height": 203
        },
        "id": "62hiRf33l9KU",
        "outputId": "68b3e841-e88f-4519-be28-88035c521357"
      },
      "source": [
        "compare.sample(5)"
      ],
      "execution_count": null,
      "outputs": [
        {
          "output_type": "execute_result",
          "data": {
            "text/html": [
              "<div>\n",
              "<style scoped>\n",
              "    .dataframe tbody tr th:only-of-type {\n",
              "        vertical-align: middle;\n",
              "    }\n",
              "\n",
              "    .dataframe tbody tr th {\n",
              "        vertical-align: top;\n",
              "    }\n",
              "\n",
              "    .dataframe thead th {\n",
              "        text-align: right;\n",
              "    }\n",
              "</style>\n",
              "<table border=\"1\" class=\"dataframe\">\n",
              "  <thead>\n",
              "    <tr style=\"text-align: right;\">\n",
              "      <th></th>\n",
              "      <th>Actual</th>\n",
              "      <th>Pred</th>\n",
              "    </tr>\n",
              "  </thead>\n",
              "  <tbody>\n",
              "    <tr>\n",
              "      <th>210</th>\n",
              "      <td>547.275792</td>\n",
              "      <td>551.300720</td>\n",
              "    </tr>\n",
              "    <tr>\n",
              "      <th>213</th>\n",
              "      <td>331.121688</td>\n",
              "      <td>324.839722</td>\n",
              "    </tr>\n",
              "    <tr>\n",
              "      <th>227</th>\n",
              "      <td>257.711997</td>\n",
              "      <td>258.179443</td>\n",
              "    </tr>\n",
              "    <tr>\n",
              "      <th>66</th>\n",
              "      <td>581.542527</td>\n",
              "      <td>583.439148</td>\n",
              "    </tr>\n",
              "    <tr>\n",
              "      <th>22</th>\n",
              "      <td>375.137547</td>\n",
              "      <td>382.682159</td>\n",
              "    </tr>\n",
              "  </tbody>\n",
              "</table>\n",
              "</div>"
            ],
            "text/plain": [
              "         Actual        Pred\n",
              "210  547.275792  551.300720\n",
              "213  331.121688  324.839722\n",
              "227  257.711997  258.179443\n",
              "66   581.542527  583.439148\n",
              "22   375.137547  382.682159"
            ]
          },
          "metadata": {
            "tags": []
          },
          "execution_count": 37
        }
      ]
    },
    {
      "cell_type": "code",
      "metadata": {
        "colab": {
          "base_uri": "https://localhost:8080/"
        },
        "id": "Ttttq7Xy2KJ9",
        "outputId": "7861cc79-27e6-4b5b-da5a-e2e0b9086b96"
      },
      "source": [
        "model.evaluate(X_train, y_train, verbose=0)"
      ],
      "execution_count": null,
      "outputs": [
        {
          "output_type": "execute_result",
          "data": {
            "text/plain": [
              "23.73360824584961"
            ]
          },
          "metadata": {
            "tags": []
          },
          "execution_count": 38
        }
      ]
    },
    {
      "cell_type": "code",
      "metadata": {
        "colab": {
          "base_uri": "https://localhost:8080/"
        },
        "id": "lHiDc16A2gDw",
        "outputId": "2eb74509-1e3a-4da3-e587-5af5947cd7a8"
      },
      "source": [
        "model.evaluate(X_test, y_test, verbose=0)"
      ],
      "execution_count": null,
      "outputs": [
        {
          "output_type": "execute_result",
          "data": {
            "text/plain": [
              "25.098175048828125"
            ]
          },
          "metadata": {
            "tags": []
          },
          "execution_count": 39
        }
      ]
    },
    {
      "cell_type": "code",
      "metadata": {
        "id": "hiUdoZ6f2vGq"
      },
      "source": [
        "import seaborn as sns"
      ],
      "execution_count": null,
      "outputs": []
    },
    {
      "cell_type": "code",
      "metadata": {
        "colab": {
          "base_uri": "https://localhost:8080/",
          "height": 296
        },
        "id": "2TkIR-Bn20gM",
        "outputId": "fe68daf1-a9cd-42f8-f901-952ee09f3147"
      },
      "source": [
        "sns.scatterplot(x=\"Actual\", y=\"Pred\", data=compare)"
      ],
      "execution_count": null,
      "outputs": [
        {
          "output_type": "execute_result",
          "data": {
            "text/plain": [
              "<matplotlib.axes._subplots.AxesSubplot at 0x7fbd40c7de80>"
            ]
          },
          "metadata": {
            "tags": []
          },
          "execution_count": 41
        },
        {
          "output_type": "display_data",
          "data": {
            "image/png": "[encoded data removed]",
            "text/plain": [
              "<Figure size 432x288 with 1 Axes>"
            ]
          },
          "metadata": {
            "tags": [],
            "needs_background": "light"
          }
        }
      ]
    },
    {
      "cell_type": "code",
      "metadata": {
        "id": "3MtJjSfG3ATk"
      },
      "source": [
        "# making predictions with the model"
      ],
      "execution_count": null,
      "outputs": []
    },
    {
      "cell_type": "code",
      "metadata": {
        "colab": {
          "base_uri": "https://localhost:8080/",
          "height": 203
        },
        "id": "b-0kC_AJ8TLr",
        "outputId": "4202df87-f1dd-4734-c1f8-db155d7c7356"
      },
      "source": [
        "df.head()"
      ],
      "execution_count": null,
      "outputs": [
        {
          "output_type": "execute_result",
          "data": {
            "text/html": [
              "<div>\n",
              "<style scoped>\n",
              "    .dataframe tbody tr th:only-of-type {\n",
              "        vertical-align: middle;\n",
              "    }\n",
              "\n",
              "    .dataframe tbody tr th {\n",
              "        vertical-align: top;\n",
              "    }\n",
              "\n",
              "    .dataframe thead th {\n",
              "        text-align: right;\n",
              "    }\n",
              "</style>\n",
              "<table border=\"1\" class=\"dataframe\">\n",
              "  <thead>\n",
              "    <tr style=\"text-align: right;\">\n",
              "      <th></th>\n",
              "      <th>price</th>\n",
              "      <th>feature1</th>\n",
              "      <th>feature2</th>\n",
              "    </tr>\n",
              "  </thead>\n",
              "  <tbody>\n",
              "    <tr>\n",
              "      <th>0</th>\n",
              "      <td>461.527929</td>\n",
              "      <td>999.787558</td>\n",
              "      <td>999.766096</td>\n",
              "    </tr>\n",
              "    <tr>\n",
              "      <th>1</th>\n",
              "      <td>548.130011</td>\n",
              "      <td>998.861615</td>\n",
              "      <td>1001.042403</td>\n",
              "    </tr>\n",
              "    <tr>\n",
              "      <th>2</th>\n",
              "      <td>410.297162</td>\n",
              "      <td>1000.070267</td>\n",
              "      <td>998.844015</td>\n",
              "    </tr>\n",
              "    <tr>\n",
              "      <th>3</th>\n",
              "      <td>540.382220</td>\n",
              "      <td>999.952251</td>\n",
              "      <td>1000.440940</td>\n",
              "    </tr>\n",
              "    <tr>\n",
              "      <th>4</th>\n",
              "      <td>546.024553</td>\n",
              "      <td>1000.446011</td>\n",
              "      <td>1000.338531</td>\n",
              "    </tr>\n",
              "  </tbody>\n",
              "</table>\n",
              "</div>"
            ],
            "text/plain": [
              "        price     feature1     feature2\n",
              "0  461.527929   999.787558   999.766096\n",
              "1  548.130011   998.861615  1001.042403\n",
              "2  410.297162  1000.070267   998.844015\n",
              "3  540.382220   999.952251  1000.440940\n",
              "4  546.024553  1000.446011  1000.338531"
            ]
          },
          "metadata": {
            "tags": []
          },
          "execution_count": 43
        }
      ]
    },
    {
      "cell_type": "code",
      "metadata": {
        "id": "wDKT5z9_7g4-"
      },
      "source": [
        "new_data =[[999, 1001]]"
      ],
      "execution_count": null,
      "outputs": []
    },
    {
      "cell_type": "code",
      "metadata": {
        "id": "3CQkleCS7nwi"
      },
      "source": [
        "new_data=scaler.transform(new_data)"
      ],
      "execution_count": null,
      "outputs": []
    },
    {
      "cell_type": "code",
      "metadata": {
        "colab": {
          "base_uri": "https://localhost:8080/"
        },
        "id": "xV4D8dZv779y",
        "outputId": "347d062e-04dc-499a-e85b-08e877c3ed8e"
      },
      "source": [
        "new_data"
      ],
      "execution_count": null,
      "outputs": [
        {
          "output_type": "execute_result",
          "data": {
            "text/plain": [
              "array([[0.30608328, 0.71932348]])"
            ]
          },
          "metadata": {
            "tags": []
          },
          "execution_count": 46
        }
      ]
    },
    {
      "cell_type": "code",
      "metadata": {
        "colab": {
          "base_uri": "https://localhost:8080/"
        },
        "id": "4oqsj0Yu79dS",
        "outputId": "fc9feb71-a2c8-4801-8dec-87419074a800"
      },
      "source": [
        "model.predict(new_data)[0][0]"
      ],
      "execution_count": null,
      "outputs": [
        {
          "output_type": "execute_result",
          "data": {
            "text/plain": [
              "548.5577"
            ]
          },
          "metadata": {
            "tags": []
          },
          "execution_count": 47
        }
      ]
    },
    {
      "cell_type": "code",
      "metadata": {
        "id": "QfOhdrK18Dpv"
      },
      "source": [
        "# saving and loading the model"
      ],
      "execution_count": null,
      "outputs": []
    },
    {
      "cell_type": "code",
      "metadata": {
        "id": "A17W8-wE8OjA"
      },
      "source": [
        "from tensorflow.keras.models import load_model"
      ],
      "execution_count": null,
      "outputs": []
    },
    {
      "cell_type": "code",
      "metadata": {
        "id": "6Tzp3Qge8rkP"
      },
      "source": [
        "model.save(\"my_model.h5\")"
      ],
      "execution_count": null,
      "outputs": []
    },
    {
      "cell_type": "code",
      "metadata": {
        "id": "8_0PqXMU81Uk"
      },
      "source": [
        "loaded_model=load_model(\"my_model.h5\")"
      ],
      "execution_count": null,
      "outputs": []
    },
    {
      "cell_type": "code",
      "metadata": {
        "colab": {
          "base_uri": "https://localhost:8080/"
        },
        "id": "pTzxz0bj9XTt",
        "outputId": "3d61c3c3-1353-4437-8633-d6d8e4cb59c0"
      },
      "source": [
        "new_data"
      ],
      "execution_count": null,
      "outputs": [
        {
          "output_type": "execute_result",
          "data": {
            "text/plain": [
              "array([[0.30608328, 0.71932348]])"
            ]
          },
          "metadata": {
            "tags": []
          },
          "execution_count": 52
        }
      ]
    },
    {
      "cell_type": "code",
      "metadata": {
        "colab": {
          "base_uri": "https://localhost:8080/"
        },
        "id": "ASn40-US9Drv",
        "outputId": "0828ec23-0c86-4941-e88f-e952a149f9be"
      },
      "source": [
        "loaded_model.predict(new_data)"
      ],
      "execution_count": null,
      "outputs": [
        {
          "output_type": "execute_result",
          "data": {
            "text/plain": [
              "array([[548.5577]], dtype=float32)"
            ]
          },
          "metadata": {
            "tags": []
          },
          "execution_count": 53
        }
      ]
    },
    {
      "cell_type": "code",
      "metadata": {
        "id": "XDZ9b3xX9HLS"
      },
      "source": [
        ""
      ],
      "execution_count": null,
      "outputs": []
    }
  ]
}